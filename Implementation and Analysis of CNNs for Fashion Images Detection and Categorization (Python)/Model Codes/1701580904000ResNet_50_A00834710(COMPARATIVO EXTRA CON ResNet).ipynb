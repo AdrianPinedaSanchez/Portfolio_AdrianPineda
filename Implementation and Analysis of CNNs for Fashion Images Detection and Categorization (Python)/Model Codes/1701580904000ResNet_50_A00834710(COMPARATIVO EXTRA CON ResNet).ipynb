{
  "nbformat": 4,
  "nbformat_minor": 0,
  "metadata": {
    "colab": {
      "name": "Fashion-MNIST-by-ResNet-50.ipynb",
      "provenance": []
    },
    "kernelspec": {
      "name": "python3",
      "display_name": "Python 3"
    },
    "accelerator": "GPU"
  },
  "cells": [
    {
      "cell_type": "markdown",
      "source": [
        "# **Modelo ResNet50**\n",
        "# **Adrian Pineda Sanchez A00834710**\n",
        "\n",
        "# **Por medio del tutorial basado en: Fashion-MNIST-by-ResNet-50.ipynb**\n",
        "\n"
      ],
      "metadata": {
        "id": "kC72ELso65qG"
      }
    },
    {
      "cell_type": "markdown",
      "source": [
        "# **MODELO COMPARATIVO CON ResNet**"
      ],
      "metadata": {
        "id": "1EhEibuLDblr"
      }
    },
    {
      "cell_type": "markdown",
      "source": [
        "# Se realizaron modificaciones en todos los hiperparametros y la arquitectectura pero el modelo sigue manteniendo su integridad"
      ],
      "metadata": {
        "id": "J2hnLpdK7anD"
      }
    },
    {
      "cell_type": "code",
      "metadata": {
        "id": "cG3G4utpTD0C",
        "outputId": "5452fc7d-bf7b-43e7-d45f-b5f0629c0f4f",
        "colab": {
          "base_uri": "https://localhost:8080/"
        }
      },
      "source": [
        "!pip install tensorflow-gpu==2.0.0-alpha0"
      ],
      "execution_count": 1,
      "outputs": [
        {
          "output_type": "stream",
          "name": "stdout",
          "text": [
            "\u001b[31mERROR: Could not find a version that satisfies the requirement tensorflow-gpu==2.0.0-alpha0 (from versions: 2.8.0rc0, 2.8.0rc1, 2.8.0, 2.8.1, 2.8.2, 2.8.3, 2.8.4, 2.9.0rc0, 2.9.0rc1, 2.9.0rc2, 2.9.0, 2.9.1, 2.9.2, 2.9.3, 2.10.0rc0, 2.10.0rc1, 2.10.0rc2, 2.10.0rc3, 2.10.0, 2.10.1, 2.11.0rc0, 2.11.0rc1, 2.11.0rc2, 2.11.0, 2.12.0)\u001b[0m\u001b[31m\n",
            "\u001b[0m\u001b[31mERROR: No matching distribution found for tensorflow-gpu==2.0.0-alpha0\u001b[0m\u001b[31m\n",
            "\u001b[0m"
          ]
        }
      ]
    },
    {
      "cell_type": "markdown",
      "metadata": {
        "id": "ZYHyNNGpsAY7"
      },
      "source": [
        "## **Preparacion de los datos**"
      ]
    },
    {
      "cell_type": "code",
      "metadata": {
        "id": "uQCnTxM4TIY8",
        "outputId": "0c2403f8-cec0-4abc-a3ad-37fd218d3b7a",
        "colab": {
          "base_uri": "https://localhost:8080/"
        }
      },
      "source": [
        "import tensorflow_datasets as tfds\n",
        "import tensorflow as tf\n",
        "\n",
        "#print(tfds.list_builders())\n",
        "dataset, info = tfds.load('fashion_mnist', as_supervised = True, with_info = True)\n",
        "dataset_test, dataset_train = dataset['test'], dataset['train']\n",
        "print(info)"
      ],
      "execution_count": 2,
      "outputs": [
        {
          "output_type": "stream",
          "name": "stdout",
          "text": [
            "tfds.core.DatasetInfo(\n",
            "    name='fashion_mnist',\n",
            "    full_name='fashion_mnist/3.0.1',\n",
            "    description=\"\"\"\n",
            "    Fashion-MNIST is a dataset of Zalando's article images consisting of a training set of 60,000 examples and a test set of 10,000 examples. Each example is a 28x28 grayscale image, associated with a label from 10 classes.\n",
            "    \"\"\",\n",
            "    homepage='https://github.com/zalandoresearch/fashion-mnist',\n",
            "    data_dir='/root/tensorflow_datasets/fashion_mnist/3.0.1',\n",
            "    file_format=tfrecord,\n",
            "    download_size=29.45 MiB,\n",
            "    dataset_size=36.42 MiB,\n",
            "    features=FeaturesDict({\n",
            "        'image': Image(shape=(28, 28, 1), dtype=uint8),\n",
            "        'label': ClassLabel(shape=(), dtype=int64, num_classes=10),\n",
            "    }),\n",
            "    supervised_keys=('image', 'label'),\n",
            "    disable_shuffling=False,\n",
            "    splits={\n",
            "        'test': <SplitInfo num_examples=10000, num_shards=1>,\n",
            "        'train': <SplitInfo num_examples=60000, num_shards=1>,\n",
            "    },\n",
            "    citation=\"\"\"@article{DBLP:journals/corr/abs-1708-07747,\n",
            "      author    = {Han Xiao and\n",
            "                   Kashif Rasul and\n",
            "                   Roland Vollgraf},\n",
            "      title     = {Fashion-MNIST: a Novel Image Dataset for Benchmarking Machine Learning\n",
            "                   Algorithms},\n",
            "      journal   = {CoRR},\n",
            "      volume    = {abs/1708.07747},\n",
            "      year      = {2017},\n",
            "      url       = {http://arxiv.org/abs/1708.07747},\n",
            "      archivePrefix = {arXiv},\n",
            "      eprint    = {1708.07747},\n",
            "      timestamp = {Mon, 13 Aug 2018 16:47:27 +0200},\n",
            "      biburl    = {https://dblp.org/rec/bib/journals/corr/abs-1708-07747},\n",
            "      bibsource = {dblp computer science bibliography, https://dblp.org}\n",
            "    }\"\"\",\n",
            ")\n"
          ]
        }
      ]
    },
    {
      "cell_type": "code",
      "metadata": {
        "id": "uzTPgfh7WoP-"
      },
      "source": [
        "def convert_types(image, label):\n",
        "    image = tf.cast(image, tf.float32)\n",
        "    image /= 255\n",
        "    return image, label\n",
        "\n",
        "batch_size = 64\n",
        "\n",
        "dataset_train = dataset_train.map(convert_types).shuffle(10000).batch(batch_size)\n",
        "dataset_test = dataset_test.map(convert_types).batch(batch_size)"
      ],
      "execution_count": 3,
      "outputs": []
    },
    {
      "cell_type": "markdown",
      "metadata": {
        "id": "PqU9JzNxwRmF"
      },
      "source": [
        "## **Data Augmentation**"
      ]
    },
    {
      "cell_type": "code",
      "metadata": {
        "id": "fgxq02WjwZE9"
      },
      "source": [
        "from tensorflow.keras.preprocessing.image import ImageDataGenerator\n",
        "\n",
        "#datagen = ImageDataGenerator()\n",
        "datagen = ImageDataGenerator(rotation_range = 10, horizontal_flip = True, zoom_range = 0.1)"
      ],
      "execution_count": 4,
      "outputs": []
    },
    {
      "cell_type": "markdown",
      "metadata": {
        "id": "HjpM_PBXsCzt"
      },
      "source": [
        "# **Definicion del modelo ResNet50**"
      ]
    },
    {
      "cell_type": "code",
      "metadata": {
        "id": "ZKsXTb-1YiX6",
        "outputId": "61fea1b0-45df-4830-8546-7868eb40d9ef",
        "colab": {
          "base_uri": "https://localhost:8080/"
        }
      },
      "source": [
        "from tensorflow.keras.layers import Conv2D, Dense, BatchNormalization, Activation, MaxPool2D, GlobalAveragePooling2D, Add\n",
        "from tensorflow.keras import Model\n",
        "\n",
        "class ResidualBlock(Model):\n",
        "    def __init__(self, channel_in = 64, channel_out = 256):\n",
        "        super().__init__()\n",
        "\n",
        "        channel = channel_out // 4\n",
        "\n",
        "        self.conv1 = Conv2D(channel, kernel_size = (1, 1), padding = \"same\")\n",
        "        self.bn1 = BatchNormalization()\n",
        "        self.av1 = Activation(tf.nn.relu)\n",
        "        self.conv2 = Conv2D(channel, kernel_size = (3, 3), padding = \"same\")\n",
        "        self.bn2 = BatchNormalization()\n",
        "        self.av2 = Activation(tf.nn.relu)\n",
        "        self.conv3 = Conv2D(channel_out, kernel_size = (1, 1), padding = \"same\")\n",
        "        self.bn3 = BatchNormalization()\n",
        "        self.shortcut = self._shortcut(channel_in, channel_out)\n",
        "        self.add = Add()\n",
        "        self.av3 = Activation(tf.nn.relu)\n",
        "\n",
        "    def call(self, x):\n",
        "        h = self.conv1(x)\n",
        "        h = self.bn1(h)\n",
        "        h = self.av1(h)\n",
        "        h = self.conv2(h)\n",
        "        h = self.bn2(h)\n",
        "        h = self.av2(h)\n",
        "        h = self.conv3(h)\n",
        "        h = self.bn3(h)\n",
        "        shortcut = self.shortcut(x)\n",
        "        h = self.add([h, shortcut])\n",
        "        y = self.av3(h)\n",
        "        return y\n",
        "\n",
        "    def _shortcut(self, channel_in, channel_out):\n",
        "        if channel_in == channel_out:\n",
        "            return lambda x : x\n",
        "        else:\n",
        "            return self._projection(channel_out)\n",
        "\n",
        "    def _projection(self, channel_out):\n",
        "        return Conv2D(channel_out, kernel_size = (1, 1), padding = \"same\")\n",
        "\n",
        "class ResNet50(Model):\n",
        "    def __init__(self, input_shape, output_dim):\n",
        "        super().__init__()\n",
        "\n",
        "        self._layers = [\n",
        "            Conv2D(64, input_shape=input_shape, kernel_size=(7, 7), strides=(2, 2), padding=\"same\"),\n",
        "            BatchNormalization(),\n",
        "            Activation(tf.nn.relu),\n",
        "            MaxPool2D(pool_size=(3, 3), strides=(2, 2), padding=\"same\"),\n",
        "            # Reducir el número de bloques residuales para disminuir la complejidad del modelo\n",
        "            ResidualBlock(64, 256),\n",
        "            [\n",
        "                ResidualBlock(256, 256) for _ in range(1)  # Reducido a 1 bloque residua\n",
        "            ],\n",
        "            Conv2D(512, kernel_size=(1, 1), strides=(2, 2)),\n",
        "            [\n",
        "                ResidualBlock(512, 512) for _ in range(2)\n",
        "            ],\n",
        "            Conv2D(1024, kernel_size=(1, 1), strides=(2, 2)),\n",
        "            [\n",
        "                ResidualBlock(1024, 1024) for _ in range(3)\n",
        "            ],\n",
        "            Conv2D(2048, kernel_size=(1, 1), strides=(2, 2)),\n",
        "            [\n",
        "                ResidualBlock(2048, 2048) for _ in range(2)  # Reducido a 2 bloques residuales\n",
        "            ],\n",
        "            GlobalAveragePooling2D(),\n",
        "            Dense(1000, activation=tf.nn.relu),\n",
        "            Dense(output_dim, activation=tf.nn.softmax)\n",
        "        ]\n",
        "\n",
        "    def call(self, x):\n",
        "        for layer in self._layers:\n",
        "            if isinstance(layer, list):\n",
        "                for l in layer:\n",
        "                    x = l(x)\n",
        "            else:\n",
        "                x = layer(x)\n",
        "        return x\n",
        "\n",
        "\n",
        "model = ResNet50((28, 28, 1), 10)\n",
        "model.build(input_shape = (None, 28, 28, 1))\n",
        "model.summary()"
      ],
      "execution_count": 5,
      "outputs": [
        {
          "output_type": "stream",
          "name": "stdout",
          "text": [
            "Model: \"res_net50\"\n",
            "_________________________________________________________________\n",
            " Layer (type)                Output Shape              Param #   \n",
            "=================================================================\n",
            " conv2d (Conv2D)             multiple                  3200      \n",
            "                                                                 \n",
            " batch_normalization (Batch  multiple                  256       \n",
            " Normalization)                                                  \n",
            "                                                                 \n",
            " activation (Activation)     multiple                  0         \n",
            "                                                                 \n",
            " max_pooling2d (MaxPooling2  multiple                  0         \n",
            " D)                                                              \n",
            "                                                                 \n",
            " residual_block (ResidualBl  multiple                  75904     \n",
            " ock)                                                            \n",
            "                                                                 \n",
            " residual_block_1 (Residual  multiple                  71552     \n",
            " Block)                                                          \n",
            "                                                                 \n",
            " conv2d_8 (Conv2D)           multiple                  131584    \n",
            "                                                                 \n",
            " residual_block_2 (Residual  multiple                  282368    \n",
            " Block)                                                          \n",
            "                                                                 \n",
            " residual_block_3 (Residual  multiple                  282368    \n",
            " Block)                                                          \n",
            "                                                                 \n",
            " conv2d_15 (Conv2D)          multiple                  525312    \n",
            "                                                                 \n",
            " residual_block_4 (Residual  multiple                  1121792   \n",
            " Block)                                                          \n",
            "                                                                 \n",
            " residual_block_5 (Residual  multiple                  1121792   \n",
            " Block)                                                          \n",
            "                                                                 \n",
            " residual_block_6 (Residual  multiple                  1121792   \n",
            " Block)                                                          \n",
            "                                                                 \n",
            " conv2d_25 (Conv2D)          multiple                  2099200   \n",
            "                                                                 \n",
            " residual_block_7 (Residual  multiple                  4471808   \n",
            " Block)                                                          \n",
            "                                                                 \n",
            " residual_block_8 (Residual  multiple                  4471808   \n",
            " Block)                                                          \n",
            "                                                                 \n",
            " global_average_pooling2d (  multiple                  0         \n",
            " GlobalAveragePooling2D)                                         \n",
            "                                                                 \n",
            " dense (Dense)               multiple                  2049000   \n",
            "                                                                 \n",
            " dense_1 (Dense)             multiple                  10010     \n",
            "                                                                 \n",
            "=================================================================\n",
            "Total params: 17839746 (68.05 MB)\n",
            "Trainable params: 17813506 (67.95 MB)\n",
            "Non-trainable params: 26240 (102.50 KB)\n",
            "_________________________________________________________________\n"
          ]
        }
      ]
    },
    {
      "cell_type": "code",
      "metadata": {
        "id": "I1CUVBw7f464"
      },
      "source": [
        "loss_object = tf.keras.losses.SparseCategoricalCrossentropy()\n",
        "optimizer = tf.keras.optimizers.Adam()\n",
        "#optimizer = tf.keras.optimizers.SGD(learning_rate = 0.1, momentum = 0.9, decay =  0.0001)"
      ],
      "execution_count": 6,
      "outputs": []
    },
    {
      "cell_type": "markdown",
      "metadata": {
        "id": "lLyqOWLssNTr"
      },
      "source": [
        "# **Preparacion de Entrenamiento**"
      ]
    },
    {
      "cell_type": "code",
      "metadata": {
        "id": "OPCBWDw0gXJ6"
      },
      "source": [
        "train_loss = tf.keras.metrics.Mean(name = 'train_loss')\n",
        "train_accuracy = tf.keras.metrics.SparseCategoricalAccuracy(name = 'train_accuracy')\n",
        "\n",
        "test_loss = tf.keras.metrics.Mean(name = 'test_loss')\n",
        "test_accuracy = tf.keras.metrics.SparseCategoricalAccuracy(name = 'test_accuracy')"
      ],
      "execution_count": 7,
      "outputs": []
    },
    {
      "cell_type": "code",
      "metadata": {
        "id": "wVKWF-4MhE2W"
      },
      "source": [
        "@tf.function\n",
        "def train_step(image, label):\n",
        "    with tf.GradientTape() as tape:\n",
        "        predictions = model(image)\n",
        "        loss = loss_object(label, predictions)\n",
        "    gradients = tape.gradient(loss, model.trainable_variables)\n",
        "    optimizer.apply_gradients(zip(gradients, model.trainable_variables))\n",
        "\n",
        "    train_loss(loss)\n",
        "    train_accuracy(label, predictions)\n",
        "\n",
        "@tf.function\n",
        "def test_step(image, label):\n",
        "    predictions = model(image)\n",
        "    loss = loss_object(label, predictions)\n",
        "\n",
        "    test_loss(loss)\n",
        "    test_accuracy(label, predictions)"
      ],
      "execution_count": 8,
      "outputs": []
    },
    {
      "cell_type": "markdown",
      "metadata": {
        "id": "XbV3BADrsTcW"
      },
      "source": [
        "## **Entrenamiento**"
      ]
    },
    {
      "cell_type": "code",
      "metadata": {
        "id": "iQoh1m9oit4-",
        "outputId": "33166404-b81b-4aa8-fe4d-d0d071385730",
        "colab": {
          "base_uri": "https://localhost:8080/"
        }
      },
      "source": [
        "import time\n",
        "\n",
        "num_epoch = 10\n",
        "start_time = time.time()\n",
        "\n",
        "train_accuracies = []\n",
        "test_accuracies = []\n",
        "\n",
        "for epoch in range(num_epoch):\n",
        "    for image, label in dataset_train:\n",
        "        for _image, _label in datagen.flow(image, label, batch_size = batch_size):\n",
        "            train_step(_image, _label)\n",
        "            break\n",
        "\n",
        "    for test_image, test_label in dataset_test:\n",
        "        test_step(test_image, test_label)\n",
        "\n",
        "    train_accuracies.append(train_accuracy.result())\n",
        "    test_accuracies.append(test_accuracy.result())\n",
        "\n",
        "    template = 'Epoch {}, Loss: {}, Accuracy: {}, Test Loss: {}, Test Accuracy: {}, spent_time: {} min'\n",
        "    spent_time = time.time() - start_time\n",
        "    print(template.format(epoch + 1, train_loss.result(), train_accuracy.result() * 100, test_loss.result(), test_accuracy.result() * 100, spent_time / 60))"
      ],
      "execution_count": 11,
      "outputs": [
        {
          "output_type": "stream",
          "name": "stdout",
          "text": [
            "Epoch 1, Loss: 0.4720892310142517, Accuracy: 82.25167083740234, Test Loss: 0.42129114270210266, Test Accuracy: 84.5133285522461, spent_time: 0.6017534653345744 min\n",
            "Epoch 2, Loss: 0.45608431100845337, Accuracy: 82.87309265136719, Test Loss: 0.41332200169563293, Test Accuracy: 84.74285888671875, spent_time: 1.1072658856709798 min\n",
            "Epoch 3, Loss: 0.4425831735134125, Accuracy: 83.38812255859375, Test Loss: 0.4051825702190399, Test Accuracy: 85.11499786376953, spent_time: 1.631849229335785 min\n",
            "Epoch 4, Loss: 0.43132296204566956, Accuracy: 83.81555938720703, Test Loss: 0.3967975974082947, Test Accuracy: 85.44889068603516, spent_time: 2.18688542842865 min\n",
            "Epoch 5, Loss: 0.42087769508361816, Accuracy: 84.22383117675781, Test Loss: 0.39033618569374084, Test Accuracy: 85.79199981689453, spent_time: 2.6919002532958984 min\n",
            "Epoch 6, Loss: 0.41194865107536316, Accuracy: 84.56121063232422, Test Loss: 0.38420426845550537, Test Accuracy: 86.02091217041016, spent_time: 3.1983030080795287 min\n",
            "Epoch 7, Loss: 0.40395256876945496, Accuracy: 84.86499786376953, Test Loss: 0.3813093602657318, Test Accuracy: 86.17666625976562, spent_time: 3.7037404974301658 min\n",
            "Epoch 8, Loss: 0.39682677388191223, Accuracy: 85.12628173828125, Test Loss: 0.37760668992996216, Test Accuracy: 86.31692504882812, spent_time: 4.237781739234924 min\n",
            "Epoch 9, Loss: 0.3901771605014801, Accuracy: 85.38143157958984, Test Loss: 0.3726637363433838, Test Accuracy: 86.51499938964844, spent_time: 4.747536166508993 min\n",
            "Epoch 10, Loss: 0.38419923186302185, Accuracy: 85.60100555419922, Test Loss: 0.36809471249580383, Test Accuracy: 86.69733428955078, spent_time: 5.261048984527588 min\n"
          ]
        }
      ]
    },
    {
      "cell_type": "markdown",
      "metadata": {
        "id": "0f-YXgEN3Hct"
      },
      "source": [
        "## **Train y Test Accurary**"
      ]
    },
    {
      "cell_type": "code",
      "metadata": {
        "id": "kNi_-yTD3GwO",
        "outputId": "cbc6b330-a6ae-49d7-efb0-be3fe3f09f29",
        "colab": {
          "base_uri": "https://localhost:8080/",
          "height": 430
        }
      },
      "source": [
        "import matplotlib.pyplot as plt\n",
        "\n",
        "plt.plot(train_accuracies, label = 'Train Accuracy')\n",
        "plt.plot(test_accuracies, linestyle = 'dashed', label = 'Test Accuracy')\n",
        "plt.legend()\n",
        "plt.show()"
      ],
      "execution_count": 12,
      "outputs": [
        {
          "output_type": "display_data",
          "data": {
            "text/plain": [
              "<Figure size 640x480 with 1 Axes>"
            ],
            "image/png": "[encoded data removed]"
          },
          "metadata": {}
        }
      ]
    }
  ]
}